{
 "cells": [
  {
   "cell_type": "code",
   "execution_count": 13,
   "id": "739138e7-e8cc-4937-8263-cbb43bfc0a53",
   "metadata": {},
   "outputs": [],
   "source": [
    "import pandas as pd"
   ]
  },
  {
   "cell_type": "code",
   "execution_count": 14,
   "id": "2766d1bd-3f4e-4ad7-8df7-5bb26dc0d58b",
   "metadata": {
    "tags": []
   },
   "outputs": [],
   "source": [
    "df = pd.read_csv('https://raw.githubusercontent.com/atlantico-academy/datasets/refs/heads/main/titanic.csv')"
   ]
  },
  {
   "cell_type": "code",
   "execution_count": 15,
   "id": "40f3cef3-8ed6-451e-9118-c7c022a01db7",
   "metadata": {
    "tags": []
   },
   "outputs": [],
   "source": [
    "df = df.to_csv('../data/raw/data.csv', index=False)"
   ]
  },
  {
   "cell_type": "code",
   "execution_count": 22,
   "id": "8f7109d4-2119-4f36-b39c-0285c7cce541",
   "metadata": {
    "tags": []
   },
   "outputs": [],
   "source": [
    "import pandas as pd\n",
    "\n",
    "# Dicionário de dados para o dataset Titanic\n",
    "data_dictionary = {\n",
    "    \"survived\": {\n",
    "        \"variavel\": \"survived\",\n",
    "        \"descricao\": \"Indica se o passageiro sobreviveu ou não ao naufrágio\",\n",
    "        \"tipo\": \"qualitativa\",\n",
    "        \"subtipo\": \"nominal\"\n",
    "    },\n",
    "    \"pclass\": {\n",
    "        \"variavel\": \"pclass\",\n",
    "        \"descricao\": \"Classe do bilhete (1 = 1ª classe, 2 = 2ª classe, 3 = 3ª classe)\",\n",
    "        \"tipo\": \"qualitativa\",\n",
    "        \"subtipo\": \"ordinal\"\n",
    "    },\n",
    "    \"sex\": {\n",
    "        \"variavel\": \"sex\",\n",
    "        \"descricao\": \"Sexo do passageiro\",\n",
    "        \"tipo\": \"qualitativa\",\n",
    "        \"subtipo\": \"nominal\"\n",
    "    },\n",
    "    \"age\": {\n",
    "        \"variavel\": \"age\",\n",
    "        \"descricao\": \"Idade do passageiro em anos\",\n",
    "        \"tipo\": \"quantitativa\",\n",
    "        \"subtipo\": \"contínua\"\n",
    "    },\n",
    "    \"sibsp\": {\n",
    "        \"variavel\": \"sibsp\",\n",
    "        \"descricao\": \"Número de irmãos/cônjuges a bordo\",\n",
    "        \"tipo\": \"quantitativa\",\n",
    "        \"subtipo\": \"discreta\"\n",
    "    },\n",
    "    \"parch\": {\n",
    "        \"variavel\": \"parch\",\n",
    "        \"descricao\": \"Número de pais/filhos a bordo\",\n",
    "        \"tipo\": \"quantitativa\",\n",
    "        \"subtipo\": \"discreta\"\n",
    "    },\n",
    "    \"ticket\": {\n",
    "        \"variavel\": \"ticket\",\n",
    "        \"descricao\": \"Número do bilhete\",\n",
    "        \"tipo\": \"qualitativa\",\n",
    "        \"subtipo\": \"nominal\"\n",
    "    },\n",
    "    \"fare\": {\n",
    "        \"variavel\": \"fare\",\n",
    "        \"descricao\": \"Tarifa paga pelo passageiro\",\n",
    "        \"tipo\": \"quantitativa\",\n",
    "        \"subtipo\": \"contínua\"\n",
    "    },\n",
    "    \"cabin\": {\n",
    "        \"variavel\": \"cabin\",\n",
    "        \"descricao\": \"Número da cabine\",\n",
    "        \"tipo\": \"qualitativa\",\n",
    "        \"subtipo\": \"nominal\"\n",
    "    },\n",
    "    \"embarked\": {\n",
    "        \"variavel\": \"embarked\",\n",
    "        \"descricao\": \"Porto de embarque (C = Cherbourg; Q = Queenstown; S = Southampton)\",\n",
    "        \"tipo\": \"qualitativa\",\n",
    "        \"subtipo\": \"nominal\"\n",
    "    }\n",
    "}\n",
    "\n",
    "# Converter o dicionário em DataFrame\n",
    "data_dict_df = pd.DataFrame.from_dict(data_dictionary, orient='index')\n",
    "\n",
    "# Salvar o DataFrame como CSV\n",
    "data_dict_df.to_csv(\"../data/external/dictionary.csv\", index=False)"
   ]
  },
  {
   "cell_type": "code",
   "execution_count": 21,
   "id": "5b92a062-3e04-4aa3-8e33-65d38a5b96d1",
   "metadata": {
    "tags": []
   },
   "outputs": [
    {
     "data": {
      "text/plain": [
       "{'survived': {'variavel': 'survived',\n",
       "  'descricao': 'Indica se o passageiro sobreviveu ou não ao naufrágio',\n",
       "  'tipo': 'qualitativa',\n",
       "  'subtipo': 'nominal'},\n",
       " 'pclass': {'variavel': 'pclass',\n",
       "  'descricao': 'Classe do bilhete (1 = 1ª classe, 2 = 2ª classe, 3 = 3ª classe)',\n",
       "  'tipo': 'qualitativa',\n",
       "  'subtipo': 'ordinal'},\n",
       " 'sex': {'variavel': 'sex',\n",
       "  'descricao': 'Sexo do passageiro',\n",
       "  'tipo': 'qualitativa',\n",
       "  'subtipo': 'nominal'},\n",
       " 'age': {'variavel': 'age',\n",
       "  'descricao': 'Idade do passageiro em anos',\n",
       "  'tipo': 'quantitativa',\n",
       "  'subtipo': 'contínua'},\n",
       " 'sibsp': {'variavel': 'sibsp',\n",
       "  'descricao': 'Número de irmãos/cônjuges a bordo',\n",
       "  'tipo': 'quantitativa',\n",
       "  'subtipo': 'discreta'},\n",
       " 'parch': {'variavel': 'parch',\n",
       "  'descricao': 'Número de pais/filhos a bordo',\n",
       "  'tipo': 'quantitativa',\n",
       "  'subtipo': 'discreta'},\n",
       " 'ticket': {'variavel': 'ticket',\n",
       "  'descricao': 'Número do bilhete',\n",
       "  'tipo': 'qualitativa',\n",
       "  'subtipo': 'nominal'},\n",
       " 'fare': {'variavel': 'fare',\n",
       "  'descricao': 'Tarifa paga pelo passageiro',\n",
       "  'tipo': 'quantitativa',\n",
       "  'subtipo': 'contínua'},\n",
       " 'cabin': {'variavel': 'cabin',\n",
       "  'descricao': 'Número da cabine',\n",
       "  'tipo': 'qualitativa',\n",
       "  'subtipo': 'nominal'},\n",
       " 'embarked': {'variavel': 'embarked',\n",
       "  'descricao': 'Porto de embarque (C = Cherbourg; Q = Queenstown; S = Southampton)',\n",
       "  'tipo': 'qualitativa',\n",
       "  'subtipo': 'nominal'}}"
      ]
     },
     "execution_count": 21,
     "metadata": {},
     "output_type": "execute_result"
    }
   ],
   "source": [
    "data_dictionary"
   ]
  },
  {
   "cell_type": "code",
   "execution_count": 12,
   "id": "d3ed7036-6e32-4b98-9683-8ec296a4de39",
   "metadata": {
    "tags": []
   },
   "outputs": [
    {
     "ename": "AttributeError",
     "evalue": "'dict' object has no attribute 'to_csv'",
     "output_type": "error",
     "traceback": [
      "\u001b[0;31m---------------------------------------------------------------------------\u001b[0m",
      "\u001b[0;31mAttributeError\u001b[0m                            Traceback (most recent call last)",
      "Cell \u001b[0;32mIn[12], line 1\u001b[0m\n\u001b[0;32m----> 1\u001b[0m \u001b[43mdata_dictionary\u001b[49m\u001b[38;5;241;43m.\u001b[39;49m\u001b[43mto_csv\u001b[49m(\u001b[38;5;124m\"\u001b[39m\u001b[38;5;124m../data/external/dictionary.csv\u001b[39m\u001b[38;5;124m\"\u001b[39m, Index\u001b[38;5;241m=\u001b[39m\u001b[38;5;28;01mFalse\u001b[39;00m)\n",
      "\u001b[0;31mAttributeError\u001b[0m: 'dict' object has no attribute 'to_csv'"
     ]
    }
   ],
   "source": [
    "data_dictionary.to_csv(\"../data/external/dictionary.csv\", Index=False)"
   ]
  },
  {
   "cell_type": "code",
   "execution_count": null,
   "id": "bdd9bcec-5be0-4107-a817-a11f6ecddf94",
   "metadata": {},
   "outputs": [],
   "source": []
  }
 ],
 "metadata": {
  "kernelspec": {
   "display_name": "Python 3 (ipykernel)",
   "language": "python",
   "name": "python3"
  },
  "language_info": {
   "codemirror_mode": {
    "name": "ipython",
    "version": 3
   },
   "file_extension": ".py",
   "mimetype": "text/x-python",
   "name": "python",
   "nbconvert_exporter": "python",
   "pygments_lexer": "ipython3",
   "version": "3.10.11"
  }
 },
 "nbformat": 4,
 "nbformat_minor": 5
}
