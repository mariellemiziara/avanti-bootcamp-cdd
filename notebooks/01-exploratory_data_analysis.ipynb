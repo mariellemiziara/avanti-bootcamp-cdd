{
 "cells": [
  {
   "cell_type": "markdown",
   "metadata": {},
   "source": [
    "# Análise exploratória de dados"
   ]
  },
  {
   "cell_type": "code",
   "execution_count": null,
   "metadata": {},
   "outputs": [],
   "source": [
    "import pandas as pd"
   ]
  },
  {
   "cell_type": "markdown",
   "metadata": {},
   "source": [
    "## 1. Descrição dos dados"
   ]
  },
  {
   "cell_type": "code",
   "execution_count": null,
   "metadata": {},
   "outputs": [],
   "source": [
    "Neste conjunto de dados, temos informações sobre 891 passageiros do Titanic, com as seguintes variáveis:\n",
    "\n",
    "| Variável   | Descrição                                                                     | Tipo        | Faltantes |\n",
    "|------------|-------------------------------------------------------------------------------|-------------|-----------|\n",
    "| survived   | Indica se o passageiro sobreviveu ou não ao naufrágio                        | Qualitativa | 0         |\n",
    "| pclass     | Classe do bilhete (1 = 1ª classe, 2 = 2ª classe, 3 = 3ª classe)             | Qualitativa | 0         |\n",
    "| sex        | Sexo do passageiro                                                             | Qualitativa | 0         |\n",
    "| age        | Idade do passageiro em anos                                                   | Quantitativa| 177       |\n",
    "| sibsp      | Número de irmãos/cônjuges a bordo                                             | Quantitativa| 0         |\n",
    "| parch      | Número de pais/filhos a bordo                                                 | Quantitativa| 0         |\n",
    "| ticket     | Número do bilhete                                                             | Qualitativa | 0         |\n",
    "| fare       | Tarifa paga pelo passageiro                                                   | Quantitativa| 0         |\n",
    "| cabin      | Número da cabine                                                               | Qualitativa | 687       |\n",
    "| embarked   | Porto de embarque (C = Cherbourg; Q = Queenstown; S = Southampton)          | Qualitativa | 2         |\n",
    "\n",
    "### Informações adicionais\n",
    "- Total de instâncias: 891\n",
    "- Total de variáveis: 10\n",
    "- Total de valores faltantes: \n",
    "  - Idade: 177\n",
    "  - Cabine: 687\n",
    "  - Embarque: 2"
   ]
  },
  {
   "cell_type": "markdown",
   "metadata": {},
   "source": [
    "## 2. Perguntas de partida e hipóteses"
   ]
  },
  {
   "cell_type": "code",
   "execution_count": null,
   "metadata": {},
   "outputs": [],
   "source": [
    "### Perguntas de Partida\n",
    "1. Quais fatores influenciam a sobrevivência dos passageiros?\n",
    "2. Existe uma diferença significativa na taxa de sobrevivência entre as diferentes classes (pclass)?\n",
    "3. O sexo do passageiro (masculino ou feminino) teve um impacto na taxa de sobrevivência?\n",
    "4. Como a idade dos passageiros se relaciona com a sobrevivência?\n",
    "5. A quantidade de familiares a bordo (sibsp e parch) influencia a sobrevivência?\n",
    "\n",
    "### Hipóteses\n",
    "1. Passageiros da 1ª classe têm uma taxa de sobrevivência maior do que os da 2ª e 3ª classes.\n",
    "2. Passageiras do sexo feminino têm uma taxa de sobrevivência mais alta do que os do sexo masculino.\n",
    "3. Passageiros mais jovens (menores de 18 anos) têm uma maior probabilidade de sobrevivência.\n",
    "4. Passageiros com mais irmãos/cônjuges ou pais/filhos a bordo (sibsp e parch) têm maior chance de sobreviver."
   ]
  },
  {
   "cell_type": "markdown",
   "metadata": {},
   "source": [
    "## 3. Insights"
   ]
  },
  {
   "cell_type": "code",
   "execution_count": null,
   "metadata": {},
   "outputs": [],
   "source": [
    "### Respostas às Perguntas\n",
    "1. **Influência dos Fatores na Sobrevivência**: Análises iniciais sugerem que a classe do bilhete e o sexo têm forte impacto na sobrevivência.\n",
    "2. **Taxa de Sobrevivência por Classe**: A análise pode revelar que a 1ª classe teve a maior taxa de sobrevivência, enquanto a 3ª classe teve a menor.\n",
    "3. **Impacto do Sexo na Sobrevivência**: A expectativa é que as mulheres tenham uma taxa de sobrevivência mais alta do que os homens.\n",
    "4. **Idade e Sobrevivência**: Os dados podem mostrar que os passageiros mais jovens têm maior chance de sobrevivência.\n",
    "5. **Família e Sobrevivência**: Uma análise pode indicar que passageiros que viajaram com familiares tendem a sobreviver mais do que aqueles que viajaram sozinhos.\n",
    "\n",
    "### Informações Interessantes\n",
    "- O número de sobreviventes em relação ao total de passageiros.\n",
    "- Gráficos que mostram as distribuições das variáveis (idade, tarifa, etc.) entre os sobreviventes e não sobreviventes.\n",
    "- Comparações visuais entre a taxa de sobrevivência e os diferentes grupos (sexo, classe, etc.)."
   ]
  }
 ],
 "metadata": {
  "kernelspec": {
   "display_name": "Python 3 (ipykernel)",
   "language": "python",
   "name": "python3"
  },
  "language_info": {
   "codemirror_mode": {
    "name": "ipython",
    "version": 3
   },
   "file_extension": ".py",
   "mimetype": "text/x-python",
   "name": "python",
   "nbconvert_exporter": "python",
   "pygments_lexer": "ipython3",
   "version": "3.10.11"
  },
  "vscode": {
   "interpreter": {
    "hash": "eb3c3305d8b111f0102f4f519c5f17abd113fe74db6752c355e994a9008815ef"
   }
  }
 },
 "nbformat": 4,
 "nbformat_minor": 4
}
